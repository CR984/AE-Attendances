{
 "cells": [
  {
   "cell_type": "markdown",
   "id": "21b3ec8e-c152-473e-89b2-aa5bdecad04a",
   "metadata": {},
   "source": [
    "# API Project"
   ]
  },
  {
   "cell_type": "markdown",
   "id": "3c5a0347-2ba1-455d-927a-b859c6a3e249",
   "metadata": {},
   "source": [
    "https://www.opendata.nhs.scot/dataset/weekly-accident-and-emergency-activity-and-waiting-times/resource/a5f7ca94-c810-41b5-a7c9-25c18d43e5a4"
   ]
  },
  {
   "cell_type": "markdown",
   "id": "443455fb-0b76-412c-91aa-e843c3c517ba",
   "metadata": {},
   "source": [
    "### Import Libraries"
   ]
  },
  {
   "cell_type": "code",
   "execution_count": 24,
   "id": "78ee2080-48cc-4195-a11e-21638bfffcd7",
   "metadata": {},
   "outputs": [],
   "source": [
    "import requests # For sending the API request\n",
    "import json\n",
    "from sqlalchemy import create_engine  # For connecting to a PostgreSQL database (or other databases)\n",
    "import os\n",
    "import openpyxl  # For reading and writing Excel (.xlsx) files\n",
    "import pandas as pd"
   ]
  },
  {
   "cell_type": "markdown",
   "id": "1772e8a5-dfc6-4ac0-8e3d-2dca891ebef1",
   "metadata": {},
   "source": [
    "### Make the API request"
   ]
  },
  {
   "cell_type": "code",
   "execution_count": 4,
   "id": "8ed2315c-509f-498c-973c-74fb5d818239",
   "metadata": {},
   "outputs": [],
   "source": [
    "# API URL\n",
    "url = \"https://www.opendata.nhs.scot/api/3/action/datastore_search\"\n",
    "\n",
    "# Parameters\n",
    "params = {\n",
    "    \"resource_id\": \"a5f7ca94-c810-41b5-a7c9-25c18d43e5a4\",\n",
    "    \"limit\": 1300,\n",
    "    \"filters\": json.dumps({\"TreatmentLocation\": \"S308H\"})\n",
    "}\n",
    "\n",
    "# Send the request\n",
    "response = requests.get(url, params=params)"
   ]
  },
  {
   "cell_type": "markdown",
   "id": "82f5dbe9-30f9-4027-95ef-1dcc1057ab17",
   "metadata": {},
   "source": [
    "### Interpret the result"
   ]
  },
  {
   "cell_type": "code",
   "execution_count": 5,
   "id": "b064b3d7-1f82-431d-89db-d7803a9d1f67",
   "metadata": {},
   "outputs": [
    {
     "name": "stdout",
     "output_type": "stream",
     "text": [
      "Request was a success! Status code: 200\n"
     ]
    }
   ],
   "source": [
    "if response.status_code == 200:\n",
    "    print(f\"Request was a success! Status code: {response.status_code}\")\n",
    "else:\n",
    "    print(f\"Error: {response.status_code}\")"
   ]
  },
  {
   "cell_type": "markdown",
   "id": "107959df-32a4-416e-92b3-c24000667114",
   "metadata": {},
   "source": [
    "### Print the records"
   ]
  },
  {
   "cell_type": "code",
   "execution_count": 6,
   "id": "f03f550e-12d6-42dc-b5b9-c23de0b3f28f",
   "metadata": {},
   "outputs": [],
   "source": [
    "if response.status_code == 200:\n",
    "    data = response.json()\n",
    "    records = data.get(\"result\", {}).get(\"records\", [])  # Extract the records"
   ]
  },
  {
   "cell_type": "markdown",
   "id": "8fec1658-1ed1-4639-8603-1ec8032419ff",
   "metadata": {},
   "source": [
    "### Add records to a data frame"
   ]
  },
  {
   "cell_type": "code",
   "execution_count": 7,
   "id": "687ffcb4-08b4-4f09-96df-74ce3413da1e",
   "metadata": {},
   "outputs": [
    {
     "data": {
      "text/html": [
       "<div>\n",
       "<style scoped>\n",
       "    .dataframe tbody tr th:only-of-type {\n",
       "        vertical-align: middle;\n",
       "    }\n",
       "\n",
       "    .dataframe tbody tr th {\n",
       "        vertical-align: top;\n",
       "    }\n",
       "\n",
       "    .dataframe thead th {\n",
       "        text-align: right;\n",
       "    }\n",
       "</style>\n",
       "<table border=\"1\" class=\"dataframe\">\n",
       "  <thead>\n",
       "    <tr style=\"text-align: right;\">\n",
       "      <th></th>\n",
       "      <th>_id</th>\n",
       "      <th>WeekEndingDate</th>\n",
       "      <th>Country</th>\n",
       "      <th>HBT</th>\n",
       "      <th>TreatmentLocation</th>\n",
       "      <th>DepartmentType</th>\n",
       "      <th>AttendanceCategory</th>\n",
       "      <th>NumberOfAttendancesEpisode</th>\n",
       "      <th>NumberWithin4HoursEpisode</th>\n",
       "      <th>NumberOver4HoursEpisode</th>\n",
       "      <th>PercentageWithin4HoursEpisode</th>\n",
       "      <th>NumberOver8HoursEpisode</th>\n",
       "      <th>PercentageOver8HoursEpisode</th>\n",
       "      <th>NumberOver12HoursEpisode</th>\n",
       "      <th>PercentageOver12HoursEpisode</th>\n",
       "    </tr>\n",
       "  </thead>\n",
       "  <tbody>\n",
       "    <tr>\n",
       "      <th>1099</th>\n",
       "      <td>36029</td>\n",
       "      <td>20250323</td>\n",
       "      <td>S92000003</td>\n",
       "      <td>S08000024</td>\n",
       "      <td>S308H</td>\n",
       "      <td>Type 1</td>\n",
       "      <td>Unplanned</td>\n",
       "      <td>1070</td>\n",
       "      <td>683</td>\n",
       "      <td>387</td>\n",
       "      <td>63.8</td>\n",
       "      <td>106</td>\n",
       "      <td>9.9</td>\n",
       "      <td>45</td>\n",
       "      <td>4.2</td>\n",
       "    </tr>\n",
       "    <tr>\n",
       "      <th>1100</th>\n",
       "      <td>36030</td>\n",
       "      <td>20250323</td>\n",
       "      <td>S92000003</td>\n",
       "      <td>S08000024</td>\n",
       "      <td>S308H</td>\n",
       "      <td>Type 1</td>\n",
       "      <td>All</td>\n",
       "      <td>1248</td>\n",
       "      <td>861</td>\n",
       "      <td>387</td>\n",
       "      <td>69.0</td>\n",
       "      <td>106</td>\n",
       "      <td>8.5</td>\n",
       "      <td>45</td>\n",
       "      <td>3.6</td>\n",
       "    </tr>\n",
       "    <tr>\n",
       "      <th>1101</th>\n",
       "      <td>36117</td>\n",
       "      <td>20250330</td>\n",
       "      <td>S92000003</td>\n",
       "      <td>S08000024</td>\n",
       "      <td>S308H</td>\n",
       "      <td>Type 1</td>\n",
       "      <td>New planned</td>\n",
       "      <td>182</td>\n",
       "      <td>182</td>\n",
       "      <td>0</td>\n",
       "      <td>100.0</td>\n",
       "      <td>0</td>\n",
       "      <td>0.0</td>\n",
       "      <td>0</td>\n",
       "      <td>0.0</td>\n",
       "    </tr>\n",
       "    <tr>\n",
       "      <th>1102</th>\n",
       "      <td>36118</td>\n",
       "      <td>20250330</td>\n",
       "      <td>S92000003</td>\n",
       "      <td>S08000024</td>\n",
       "      <td>S308H</td>\n",
       "      <td>Type 1</td>\n",
       "      <td>Unplanned</td>\n",
       "      <td>1049</td>\n",
       "      <td>647</td>\n",
       "      <td>402</td>\n",
       "      <td>61.7</td>\n",
       "      <td>121</td>\n",
       "      <td>11.5</td>\n",
       "      <td>59</td>\n",
       "      <td>5.6</td>\n",
       "    </tr>\n",
       "    <tr>\n",
       "      <th>1103</th>\n",
       "      <td>36119</td>\n",
       "      <td>20250330</td>\n",
       "      <td>S92000003</td>\n",
       "      <td>S08000024</td>\n",
       "      <td>S308H</td>\n",
       "      <td>Type 1</td>\n",
       "      <td>All</td>\n",
       "      <td>1231</td>\n",
       "      <td>829</td>\n",
       "      <td>402</td>\n",
       "      <td>67.3</td>\n",
       "      <td>121</td>\n",
       "      <td>9.8</td>\n",
       "      <td>59</td>\n",
       "      <td>4.8</td>\n",
       "    </tr>\n",
       "  </tbody>\n",
       "</table>\n",
       "</div>"
      ],
      "text/plain": [
       "        _id  WeekEndingDate    Country        HBT TreatmentLocation  \\\n",
       "1099  36029        20250323  S92000003  S08000024             S308H   \n",
       "1100  36030        20250323  S92000003  S08000024             S308H   \n",
       "1101  36117        20250330  S92000003  S08000024             S308H   \n",
       "1102  36118        20250330  S92000003  S08000024             S308H   \n",
       "1103  36119        20250330  S92000003  S08000024             S308H   \n",
       "\n",
       "     DepartmentType AttendanceCategory  NumberOfAttendancesEpisode  \\\n",
       "1099         Type 1          Unplanned                        1070   \n",
       "1100         Type 1                All                        1248   \n",
       "1101         Type 1        New planned                         182   \n",
       "1102         Type 1          Unplanned                        1049   \n",
       "1103         Type 1                All                        1231   \n",
       "\n",
       "      NumberWithin4HoursEpisode  NumberOver4HoursEpisode  \\\n",
       "1099                        683                      387   \n",
       "1100                        861                      387   \n",
       "1101                        182                        0   \n",
       "1102                        647                      402   \n",
       "1103                        829                      402   \n",
       "\n",
       "      PercentageWithin4HoursEpisode  NumberOver8HoursEpisode  \\\n",
       "1099                           63.8                      106   \n",
       "1100                           69.0                      106   \n",
       "1101                          100.0                        0   \n",
       "1102                           61.7                      121   \n",
       "1103                           67.3                      121   \n",
       "\n",
       "      PercentageOver8HoursEpisode  NumberOver12HoursEpisode  \\\n",
       "1099                          9.9                        45   \n",
       "1100                          8.5                        45   \n",
       "1101                          0.0                         0   \n",
       "1102                         11.5                        59   \n",
       "1103                          9.8                        59   \n",
       "\n",
       "      PercentageOver12HoursEpisode  \n",
       "1099                           4.2  \n",
       "1100                           3.6  \n",
       "1101                           0.0  \n",
       "1102                           5.6  \n",
       "1103                           4.8  "
      ]
     },
     "execution_count": 7,
     "metadata": {},
     "output_type": "execute_result"
    }
   ],
   "source": [
    "import pandas as pd\n",
    "\n",
    "# Convert records to a DataFrame\n",
    "df = pd.DataFrame(records)\n",
    "\n",
    "# Show the first few rows\n",
    "df.tail()"
   ]
  },
  {
   "cell_type": "markdown",
   "id": "b0f482b0-5587-47ce-9d0c-f90e802a0a3f",
   "metadata": {},
   "source": [
    "# Transformation"
   ]
  },
  {
   "cell_type": "code",
   "execution_count": 8,
   "id": "9c313e60-c5a0-4a8d-b6b0-0eb8de65ca17",
   "metadata": {},
   "outputs": [
    {
     "data": {
      "text/html": [
       "<div>\n",
       "<style scoped>\n",
       "    .dataframe tbody tr th:only-of-type {\n",
       "        vertical-align: middle;\n",
       "    }\n",
       "\n",
       "    .dataframe tbody tr th {\n",
       "        vertical-align: top;\n",
       "    }\n",
       "\n",
       "    .dataframe thead th {\n",
       "        text-align: right;\n",
       "    }\n",
       "</style>\n",
       "<table border=\"1\" class=\"dataframe\">\n",
       "  <thead>\n",
       "    <tr style=\"text-align: right;\">\n",
       "      <th></th>\n",
       "      <th>_id</th>\n",
       "      <th>weekendingdate</th>\n",
       "      <th>treatmentlocation</th>\n",
       "      <th>departmenttype</th>\n",
       "      <th>attendancecategory</th>\n",
       "      <th>numberofattendancesepisode</th>\n",
       "      <th>numberwithin4hoursepisode</th>\n",
       "      <th>numberover4hoursepisode</th>\n",
       "      <th>percentagewithin4hoursepisode</th>\n",
       "      <th>numberover8hoursepisode</th>\n",
       "      <th>percentageover8hoursepisode</th>\n",
       "      <th>numberover12hoursepisode</th>\n",
       "      <th>percentageover12hoursepisode</th>\n",
       "    </tr>\n",
       "  </thead>\n",
       "  <tbody>\n",
       "    <tr>\n",
       "      <th>0</th>\n",
       "      <td>53</td>\n",
       "      <td>20150222</td>\n",
       "      <td>S308H</td>\n",
       "      <td>Type 1</td>\n",
       "      <td>Unplanned</td>\n",
       "      <td>972</td>\n",
       "      <td>903</td>\n",
       "      <td>69</td>\n",
       "      <td>92.9</td>\n",
       "      <td>2</td>\n",
       "      <td>0.2</td>\n",
       "      <td>0</td>\n",
       "      <td>0.0</td>\n",
       "    </tr>\n",
       "    <tr>\n",
       "      <th>1</th>\n",
       "      <td>54</td>\n",
       "      <td>20150222</td>\n",
       "      <td>S308H</td>\n",
       "      <td>Type 1</td>\n",
       "      <td>All</td>\n",
       "      <td>972</td>\n",
       "      <td>903</td>\n",
       "      <td>69</td>\n",
       "      <td>92.9</td>\n",
       "      <td>2</td>\n",
       "      <td>0.2</td>\n",
       "      <td>0</td>\n",
       "      <td>0.0</td>\n",
       "    </tr>\n",
       "    <tr>\n",
       "      <th>2</th>\n",
       "      <td>117</td>\n",
       "      <td>20150301</td>\n",
       "      <td>S308H</td>\n",
       "      <td>Type 1</td>\n",
       "      <td>Unplanned</td>\n",
       "      <td>1011</td>\n",
       "      <td>917</td>\n",
       "      <td>94</td>\n",
       "      <td>90.7</td>\n",
       "      <td>4</td>\n",
       "      <td>0.4</td>\n",
       "      <td>0</td>\n",
       "      <td>0.0</td>\n",
       "    </tr>\n",
       "    <tr>\n",
       "      <th>3</th>\n",
       "      <td>118</td>\n",
       "      <td>20150301</td>\n",
       "      <td>S308H</td>\n",
       "      <td>Type 1</td>\n",
       "      <td>All</td>\n",
       "      <td>1011</td>\n",
       "      <td>917</td>\n",
       "      <td>94</td>\n",
       "      <td>90.7</td>\n",
       "      <td>4</td>\n",
       "      <td>0.4</td>\n",
       "      <td>0</td>\n",
       "      <td>0.0</td>\n",
       "    </tr>\n",
       "    <tr>\n",
       "      <th>4</th>\n",
       "      <td>181</td>\n",
       "      <td>20150308</td>\n",
       "      <td>S308H</td>\n",
       "      <td>Type 1</td>\n",
       "      <td>Unplanned</td>\n",
       "      <td>1040</td>\n",
       "      <td>981</td>\n",
       "      <td>59</td>\n",
       "      <td>94.3</td>\n",
       "      <td>5</td>\n",
       "      <td>0.5</td>\n",
       "      <td>0</td>\n",
       "      <td>0.0</td>\n",
       "    </tr>\n",
       "  </tbody>\n",
       "</table>\n",
       "</div>"
      ],
      "text/plain": [
       "   _id  weekendingdate treatmentlocation departmenttype attendancecategory  \\\n",
       "0   53        20150222             S308H         Type 1          Unplanned   \n",
       "1   54        20150222             S308H         Type 1                All   \n",
       "2  117        20150301             S308H         Type 1          Unplanned   \n",
       "3  118        20150301             S308H         Type 1                All   \n",
       "4  181        20150308             S308H         Type 1          Unplanned   \n",
       "\n",
       "   numberofattendancesepisode  numberwithin4hoursepisode  \\\n",
       "0                         972                        903   \n",
       "1                         972                        903   \n",
       "2                        1011                        917   \n",
       "3                        1011                        917   \n",
       "4                        1040                        981   \n",
       "\n",
       "   numberover4hoursepisode  percentagewithin4hoursepisode  \\\n",
       "0                       69                           92.9   \n",
       "1                       69                           92.9   \n",
       "2                       94                           90.7   \n",
       "3                       94                           90.7   \n",
       "4                       59                           94.3   \n",
       "\n",
       "   numberover8hoursepisode  percentageover8hoursepisode  \\\n",
       "0                        2                          0.2   \n",
       "1                        2                          0.2   \n",
       "2                        4                          0.4   \n",
       "3                        4                          0.4   \n",
       "4                        5                          0.5   \n",
       "\n",
       "   numberover12hoursepisode  percentageover12hoursepisode  \n",
       "0                         0                           0.0  \n",
       "1                         0                           0.0  \n",
       "2                         0                           0.0  \n",
       "3                         0                           0.0  \n",
       "4                         0                           0.0  "
      ]
     },
     "execution_count": 8,
     "metadata": {},
     "output_type": "execute_result"
    }
   ],
   "source": [
    "df.columns = df.columns.str.lower()\n",
    "df = df.drop(columns = [\"country\", \"hbt\"])\n",
    "df.head()"
   ]
  },
  {
   "cell_type": "markdown",
   "id": "a82378b0-0234-4ec5-8d30-5826486de2d7",
   "metadata": {},
   "source": [
    "# Add data to the database"
   ]
  },
  {
   "cell_type": "markdown",
   "id": "1d78f135-f0ab-40a3-af75-5349210c1e08",
   "metadata": {},
   "source": [
    "### Create connection to the database"
   ]
  },
  {
   "cell_type": "code",
   "execution_count": 9,
   "id": "606590cb-73b6-46a4-a5ca-713ae6e5e89a",
   "metadata": {},
   "outputs": [
    {
     "name": "stdout",
     "output_type": "stream",
     "text": [
      "Connected to PostgreSQL successfully!\n"
     ]
    }
   ],
   "source": [
    "# Create a connection to the database\n",
    "db_user = \"postgres\"\n",
    "db_password = \"Chilli55\"\n",
    "db_host = \"localhost\"\n",
    "db_port = \"5432\"\n",
    "db_name = \"A&E Attendances\"\n",
    "\n",
    "engine = create_engine(f\"postgresql://{db_user}:{db_password}@{db_host}:{db_port}/{db_name}\")\n",
    "\n",
    "with engine.connect() as conn:\n",
    "    print(\"Connected to PostgreSQL successfully!\")"
   ]
  },
  {
   "cell_type": "markdown",
   "id": "98825d8a-e0b0-4284-82a4-d9c0a26199bc",
   "metadata": {},
   "source": [
    "### Load data into the database"
   ]
  },
  {
   "cell_type": "code",
   "execution_count": 10,
   "id": "11a867d5-c8ac-4e9f-896d-9a16fb4d12c3",
   "metadata": {},
   "outputs": [
    {
     "name": "stdout",
     "output_type": "stream",
     "text": [
      "3 row(s) have been added to the database.\n",
      "All data processed successfully!\n"
     ]
    }
   ],
   "source": [
    "existing_ids = pd.read_sql(\"SELECT _id FROM a_and_e_attendances\", con=engine)['_id']\n",
    "new_data = df[~df['_id'].isin(existing_ids)]\n",
    "\n",
    "if not new_data.empty:\n",
    "    new_data.to_sql(\"a_and_e_attendances\", con=engine, if_exists=\"append\", index=False)\n",
    "    print(f\"{len(new_data)} row(s) have been added to the database.\")\n",
    "else:\n",
    "    print(\"Data already present within table.\")\n",
    "\n",
    "print(\"All data processed successfully!\")"
   ]
  },
  {
   "cell_type": "markdown",
   "id": "44bd8299-904d-4fc6-9513-2d963c3c458f",
   "metadata": {},
   "source": [
    "Next Steps\n",
    "\n",
    "- Check if anything can be done with the limit or need to hardcode?\n",
    "- Create a dashboard - potentially pull all information in and add lookup tables to SQL for health board and hospital or add in data on demographics and or waits.\n",
    "- Repeat code to ensure I understand it\n",
    "\n",
    "\n",
    "\n",
    "Done\n",
    "- Automate API calls (e.g., run it on a schedule and store data in a database). jupyter nbconvert --to script your_notebook.ipynb"
   ]
  },
  {
   "cell_type": "code",
   "execution_count": 1,
   "id": "1a5dbb74-4935-4e93-9327-a84855c30c6b",
   "metadata": {},
   "outputs": [
    {
     "name": "stdout",
     "output_type": "stream",
     "text": [
      "      Name  Age Department  Salary  StartDate\n",
      "0    Alice   25         HR   45000 2020-01-10\n",
      "1      Bob   32         IT   60000 2019-03-15\n",
      "2  Charlie   30    Finance   52000 2021-06-01\n",
      "3    David   29         IT   58000 2020-09-23\n",
      "4      Eva   22         HR   47000 2022-02-17\n"
     ]
    }
   ],
   "source": [
    "import pandas as pd\n",
    "\n",
    "data = {\n",
    "    'Name': ['Alice', 'Bob', 'Charlie', 'David', 'Eva'],\n",
    "    'Age': [25, 32, 30, 29, 22],\n",
    "    'Department': ['HR', 'IT', 'Finance', 'IT', 'HR'],\n",
    "    'Salary': [45000, 60000, 52000, 58000, 47000],\n",
    "    'StartDate': pd.to_datetime(['2020-01-10', '2019-03-15', '2021-06-01', '2020-09-23', '2022-02-17'])\n",
    "}\n",
    "\n",
    "df = pd.DataFrame(data)\n",
    "print(df)\n",
    "\n",
    "## Try the PDA assignmet again. Then try data cleaning/transformation with a dummy data set."
   ]
  }
 ],
 "metadata": {
  "kernelspec": {
   "display_name": "Python 3 (ipykernel)",
   "language": "python",
   "name": "python3"
  },
  "language_info": {
   "codemirror_mode": {
    "name": "ipython",
    "version": 3
   },
   "file_extension": ".py",
   "mimetype": "text/x-python",
   "name": "python",
   "nbconvert_exporter": "python",
   "pygments_lexer": "ipython3",
   "version": "3.11.0"
  }
 },
 "nbformat": 4,
 "nbformat_minor": 5
}
