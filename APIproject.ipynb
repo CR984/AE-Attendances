{
 "cells": [
  {
   "cell_type": "markdown",
   "id": "21b3ec8e-c152-473e-89b2-aa5bdecad04a",
   "metadata": {},
   "source": [
    "# API Project"
   ]
  },
  {
   "cell_type": "markdown",
   "id": "3c5a0347-2ba1-455d-927a-b859c6a3e249",
   "metadata": {},
   "source": [
    "https://www.opendata.nhs.scot/dataset/weekly-accident-and-emergency-activity-and-waiting-times/resource/a5f7ca94-c810-41b5-a7c9-25c18d43e5a4"
   ]
  },
  {
   "cell_type": "markdown",
   "id": "443455fb-0b76-412c-91aa-e843c3c517ba",
   "metadata": {},
   "source": [
    "### Import Libraries"
   ]
  },
  {
   "cell_type": "code",
   "execution_count": 19,
   "id": "78ee2080-48cc-4195-a11e-21638bfffcd7",
   "metadata": {},
   "outputs": [],
   "source": [
    "import requests\n",
    "import json\n",
    "from sqlalchemy import create_engine  # For connecting to a PostgreSQL database (or other databases)\n",
    "import os\n",
    "import openpyxl  # For reading and writing Excel (.xlsx) files"
   ]
  },
  {
   "cell_type": "markdown",
   "id": "1772e8a5-dfc6-4ac0-8e3d-2dca891ebef1",
   "metadata": {},
   "source": [
    "### Make the API request"
   ]
  },
  {
   "cell_type": "code",
   "execution_count": 11,
   "id": "8ed2315c-509f-498c-973c-74fb5d818239",
   "metadata": {},
   "outputs": [],
   "source": [
    "# API URL\n",
    "url = \"https://www.opendata.nhs.scot/api/3/action/datastore_search\"\n",
    "\n",
    "params = {\n",
    "    \"resource_id\": \"a5f7ca94-c810-41b5-a7c9-25c18d43e5a4\",\n",
    "    \"limit\": 1300,\n",
    "    \"filters\": json.dumps({\"TreatmentLocation\": \"S308H\"})\n",
    "}\n",
    "\n",
    "# Send the request\n",
    "response = requests.get(url, params=params)"
   ]
  },
  {
   "cell_type": "markdown",
   "id": "82f5dbe9-30f9-4027-95ef-1dcc1057ab17",
   "metadata": {},
   "source": [
    "### Interpret the result"
   ]
  },
  {
   "cell_type": "code",
   "execution_count": 12,
   "id": "b064b3d7-1f82-431d-89db-d7803a9d1f67",
   "metadata": {},
   "outputs": [
    {
     "name": "stdout",
     "output_type": "stream",
     "text": [
      "Request was a success! Status code: 200\n"
     ]
    }
   ],
   "source": [
    "if response.status_code == 200:\n",
    "    print(f\"Request was a success! Status code: {response.status_code}\")\n",
    "else:\n",
    "    print(f\"Error: {response.status_code}\")"
   ]
  },
  {
   "cell_type": "markdown",
   "id": "107959df-32a4-416e-92b3-c24000667114",
   "metadata": {},
   "source": [
    "### Print the records"
   ]
  },
  {
   "cell_type": "code",
   "execution_count": 13,
   "id": "f03f550e-12d6-42dc-b5b9-c23de0b3f28f",
   "metadata": {},
   "outputs": [],
   "source": [
    "if response.status_code == 200:\n",
    "    data = response.json()\n",
    "    records = data.get(\"result\", {}).get(\"records\", [])  # Extract the records"
   ]
  },
  {
   "cell_type": "markdown",
   "id": "8fec1658-1ed1-4639-8603-1ec8032419ff",
   "metadata": {},
   "source": [
    "### Add records to a data frame"
   ]
  },
  {
   "cell_type": "code",
   "execution_count": 14,
   "id": "687ffcb4-08b4-4f09-96df-74ce3413da1e",
   "metadata": {},
   "outputs": [
    {
     "data": {
      "text/html": [
       "<div>\n",
       "<style scoped>\n",
       "    .dataframe tbody tr th:only-of-type {\n",
       "        vertical-align: middle;\n",
       "    }\n",
       "\n",
       "    .dataframe tbody tr th {\n",
       "        vertical-align: top;\n",
       "    }\n",
       "\n",
       "    .dataframe thead th {\n",
       "        text-align: right;\n",
       "    }\n",
       "</style>\n",
       "<table border=\"1\" class=\"dataframe\">\n",
       "  <thead>\n",
       "    <tr style=\"text-align: right;\">\n",
       "      <th></th>\n",
       "      <th>_id</th>\n",
       "      <th>WeekEndingDate</th>\n",
       "      <th>Country</th>\n",
       "      <th>HBT</th>\n",
       "      <th>TreatmentLocation</th>\n",
       "      <th>DepartmentType</th>\n",
       "      <th>AttendanceCategory</th>\n",
       "      <th>NumberOfAttendancesEpisode</th>\n",
       "      <th>NumberWithin4HoursEpisode</th>\n",
       "      <th>NumberOver4HoursEpisode</th>\n",
       "      <th>PercentageWithin4HoursEpisode</th>\n",
       "      <th>NumberOver8HoursEpisode</th>\n",
       "      <th>PercentageOver8HoursEpisode</th>\n",
       "      <th>NumberOver12HoursEpisode</th>\n",
       "      <th>PercentageOver12HoursEpisode</th>\n",
       "    </tr>\n",
       "  </thead>\n",
       "  <tbody>\n",
       "    <tr>\n",
       "      <th>1087</th>\n",
       "      <td>35682</td>\n",
       "      <td>20250223</td>\n",
       "      <td>S92000003</td>\n",
       "      <td>S08000024</td>\n",
       "      <td>S308H</td>\n",
       "      <td>Type 1</td>\n",
       "      <td>Unplanned</td>\n",
       "      <td>968</td>\n",
       "      <td>595</td>\n",
       "      <td>373</td>\n",
       "      <td>61.5</td>\n",
       "      <td>116</td>\n",
       "      <td>12.0</td>\n",
       "      <td>69</td>\n",
       "      <td>7.1</td>\n",
       "    </tr>\n",
       "    <tr>\n",
       "      <th>1088</th>\n",
       "      <td>35683</td>\n",
       "      <td>20250223</td>\n",
       "      <td>S92000003</td>\n",
       "      <td>S08000024</td>\n",
       "      <td>S308H</td>\n",
       "      <td>Type 1</td>\n",
       "      <td>All</td>\n",
       "      <td>1146</td>\n",
       "      <td>773</td>\n",
       "      <td>373</td>\n",
       "      <td>67.5</td>\n",
       "      <td>116</td>\n",
       "      <td>10.1</td>\n",
       "      <td>69</td>\n",
       "      <td>6.0</td>\n",
       "    </tr>\n",
       "    <tr>\n",
       "      <th>1089</th>\n",
       "      <td>35768</td>\n",
       "      <td>20250302</td>\n",
       "      <td>S92000003</td>\n",
       "      <td>S08000024</td>\n",
       "      <td>S308H</td>\n",
       "      <td>Type 1</td>\n",
       "      <td>New planned</td>\n",
       "      <td>199</td>\n",
       "      <td>199</td>\n",
       "      <td>0</td>\n",
       "      <td>100.0</td>\n",
       "      <td>0</td>\n",
       "      <td>0.0</td>\n",
       "      <td>0</td>\n",
       "      <td>0.0</td>\n",
       "    </tr>\n",
       "    <tr>\n",
       "      <th>1090</th>\n",
       "      <td>35769</td>\n",
       "      <td>20250302</td>\n",
       "      <td>S92000003</td>\n",
       "      <td>S08000024</td>\n",
       "      <td>S308H</td>\n",
       "      <td>Type 1</td>\n",
       "      <td>Unplanned</td>\n",
       "      <td>1078</td>\n",
       "      <td>674</td>\n",
       "      <td>404</td>\n",
       "      <td>62.5</td>\n",
       "      <td>114</td>\n",
       "      <td>10.6</td>\n",
       "      <td>50</td>\n",
       "      <td>4.6</td>\n",
       "    </tr>\n",
       "    <tr>\n",
       "      <th>1091</th>\n",
       "      <td>35770</td>\n",
       "      <td>20250302</td>\n",
       "      <td>S92000003</td>\n",
       "      <td>S08000024</td>\n",
       "      <td>S308H</td>\n",
       "      <td>Type 1</td>\n",
       "      <td>All</td>\n",
       "      <td>1277</td>\n",
       "      <td>873</td>\n",
       "      <td>404</td>\n",
       "      <td>68.4</td>\n",
       "      <td>114</td>\n",
       "      <td>8.9</td>\n",
       "      <td>50</td>\n",
       "      <td>3.9</td>\n",
       "    </tr>\n",
       "  </tbody>\n",
       "</table>\n",
       "</div>"
      ],
      "text/plain": [
       "        _id  WeekEndingDate    Country        HBT TreatmentLocation  \\\n",
       "1087  35682        20250223  S92000003  S08000024             S308H   \n",
       "1088  35683        20250223  S92000003  S08000024             S308H   \n",
       "1089  35768        20250302  S92000003  S08000024             S308H   \n",
       "1090  35769        20250302  S92000003  S08000024             S308H   \n",
       "1091  35770        20250302  S92000003  S08000024             S308H   \n",
       "\n",
       "     DepartmentType AttendanceCategory  NumberOfAttendancesEpisode  \\\n",
       "1087         Type 1          Unplanned                         968   \n",
       "1088         Type 1                All                        1146   \n",
       "1089         Type 1        New planned                         199   \n",
       "1090         Type 1          Unplanned                        1078   \n",
       "1091         Type 1                All                        1277   \n",
       "\n",
       "      NumberWithin4HoursEpisode  NumberOver4HoursEpisode  \\\n",
       "1087                        595                      373   \n",
       "1088                        773                      373   \n",
       "1089                        199                        0   \n",
       "1090                        674                      404   \n",
       "1091                        873                      404   \n",
       "\n",
       "      PercentageWithin4HoursEpisode  NumberOver8HoursEpisode  \\\n",
       "1087                           61.5                      116   \n",
       "1088                           67.5                      116   \n",
       "1089                          100.0                        0   \n",
       "1090                           62.5                      114   \n",
       "1091                           68.4                      114   \n",
       "\n",
       "      PercentageOver8HoursEpisode  NumberOver12HoursEpisode  \\\n",
       "1087                         12.0                        69   \n",
       "1088                         10.1                        69   \n",
       "1089                          0.0                         0   \n",
       "1090                         10.6                        50   \n",
       "1091                          8.9                        50   \n",
       "\n",
       "      PercentageOver12HoursEpisode  \n",
       "1087                           7.1  \n",
       "1088                           6.0  \n",
       "1089                           0.0  \n",
       "1090                           4.6  \n",
       "1091                           3.9  "
      ]
     },
     "execution_count": 14,
     "metadata": {},
     "output_type": "execute_result"
    }
   ],
   "source": [
    "import pandas as pd\n",
    "\n",
    "# Convert records to a DataFrame\n",
    "df = pd.DataFrame(records)\n",
    "\n",
    "# Show the first few rows\n",
    "df.tail()"
   ]
  },
  {
   "cell_type": "markdown",
   "id": "b0f482b0-5587-47ce-9d0c-f90e802a0a3f",
   "metadata": {},
   "source": [
    "# Transformation"
   ]
  },
  {
   "cell_type": "code",
   "execution_count": 15,
   "id": "9c313e60-c5a0-4a8d-b6b0-0eb8de65ca17",
   "metadata": {},
   "outputs": [
    {
     "data": {
      "text/html": [
       "<div>\n",
       "<style scoped>\n",
       "    .dataframe tbody tr th:only-of-type {\n",
       "        vertical-align: middle;\n",
       "    }\n",
       "\n",
       "    .dataframe tbody tr th {\n",
       "        vertical-align: top;\n",
       "    }\n",
       "\n",
       "    .dataframe thead th {\n",
       "        text-align: right;\n",
       "    }\n",
       "</style>\n",
       "<table border=\"1\" class=\"dataframe\">\n",
       "  <thead>\n",
       "    <tr style=\"text-align: right;\">\n",
       "      <th></th>\n",
       "      <th>_id</th>\n",
       "      <th>weekendingdate</th>\n",
       "      <th>treatmentlocation</th>\n",
       "      <th>departmenttype</th>\n",
       "      <th>attendancecategory</th>\n",
       "      <th>numberofattendancesepisode</th>\n",
       "      <th>numberwithin4hoursepisode</th>\n",
       "      <th>numberover4hoursepisode</th>\n",
       "      <th>percentagewithin4hoursepisode</th>\n",
       "      <th>numberover8hoursepisode</th>\n",
       "      <th>percentageover8hoursepisode</th>\n",
       "      <th>numberover12hoursepisode</th>\n",
       "      <th>percentageover12hoursepisode</th>\n",
       "    </tr>\n",
       "  </thead>\n",
       "  <tbody>\n",
       "    <tr>\n",
       "      <th>0</th>\n",
       "      <td>53</td>\n",
       "      <td>20150222</td>\n",
       "      <td>S308H</td>\n",
       "      <td>Type 1</td>\n",
       "      <td>Unplanned</td>\n",
       "      <td>972</td>\n",
       "      <td>903</td>\n",
       "      <td>69</td>\n",
       "      <td>92.9</td>\n",
       "      <td>2</td>\n",
       "      <td>0.2</td>\n",
       "      <td>0</td>\n",
       "      <td>0.0</td>\n",
       "    </tr>\n",
       "    <tr>\n",
       "      <th>1</th>\n",
       "      <td>54</td>\n",
       "      <td>20150222</td>\n",
       "      <td>S308H</td>\n",
       "      <td>Type 1</td>\n",
       "      <td>All</td>\n",
       "      <td>972</td>\n",
       "      <td>903</td>\n",
       "      <td>69</td>\n",
       "      <td>92.9</td>\n",
       "      <td>2</td>\n",
       "      <td>0.2</td>\n",
       "      <td>0</td>\n",
       "      <td>0.0</td>\n",
       "    </tr>\n",
       "    <tr>\n",
       "      <th>2</th>\n",
       "      <td>117</td>\n",
       "      <td>20150301</td>\n",
       "      <td>S308H</td>\n",
       "      <td>Type 1</td>\n",
       "      <td>Unplanned</td>\n",
       "      <td>1011</td>\n",
       "      <td>917</td>\n",
       "      <td>94</td>\n",
       "      <td>90.7</td>\n",
       "      <td>4</td>\n",
       "      <td>0.4</td>\n",
       "      <td>0</td>\n",
       "      <td>0.0</td>\n",
       "    </tr>\n",
       "    <tr>\n",
       "      <th>3</th>\n",
       "      <td>118</td>\n",
       "      <td>20150301</td>\n",
       "      <td>S308H</td>\n",
       "      <td>Type 1</td>\n",
       "      <td>All</td>\n",
       "      <td>1011</td>\n",
       "      <td>917</td>\n",
       "      <td>94</td>\n",
       "      <td>90.7</td>\n",
       "      <td>4</td>\n",
       "      <td>0.4</td>\n",
       "      <td>0</td>\n",
       "      <td>0.0</td>\n",
       "    </tr>\n",
       "    <tr>\n",
       "      <th>4</th>\n",
       "      <td>181</td>\n",
       "      <td>20150308</td>\n",
       "      <td>S308H</td>\n",
       "      <td>Type 1</td>\n",
       "      <td>Unplanned</td>\n",
       "      <td>1040</td>\n",
       "      <td>981</td>\n",
       "      <td>59</td>\n",
       "      <td>94.3</td>\n",
       "      <td>5</td>\n",
       "      <td>0.5</td>\n",
       "      <td>0</td>\n",
       "      <td>0.0</td>\n",
       "    </tr>\n",
       "  </tbody>\n",
       "</table>\n",
       "</div>"
      ],
      "text/plain": [
       "   _id  weekendingdate treatmentlocation departmenttype attendancecategory  \\\n",
       "0   53        20150222             S308H         Type 1          Unplanned   \n",
       "1   54        20150222             S308H         Type 1                All   \n",
       "2  117        20150301             S308H         Type 1          Unplanned   \n",
       "3  118        20150301             S308H         Type 1                All   \n",
       "4  181        20150308             S308H         Type 1          Unplanned   \n",
       "\n",
       "   numberofattendancesepisode  numberwithin4hoursepisode  \\\n",
       "0                         972                        903   \n",
       "1                         972                        903   \n",
       "2                        1011                        917   \n",
       "3                        1011                        917   \n",
       "4                        1040                        981   \n",
       "\n",
       "   numberover4hoursepisode  percentagewithin4hoursepisode  \\\n",
       "0                       69                           92.9   \n",
       "1                       69                           92.9   \n",
       "2                       94                           90.7   \n",
       "3                       94                           90.7   \n",
       "4                       59                           94.3   \n",
       "\n",
       "   numberover8hoursepisode  percentageover8hoursepisode  \\\n",
       "0                        2                          0.2   \n",
       "1                        2                          0.2   \n",
       "2                        4                          0.4   \n",
       "3                        4                          0.4   \n",
       "4                        5                          0.5   \n",
       "\n",
       "   numberover12hoursepisode  percentageover12hoursepisode  \n",
       "0                         0                           0.0  \n",
       "1                         0                           0.0  \n",
       "2                         0                           0.0  \n",
       "3                         0                           0.0  \n",
       "4                         0                           0.0  "
      ]
     },
     "execution_count": 15,
     "metadata": {},
     "output_type": "execute_result"
    }
   ],
   "source": [
    "df.columns = df.columns.str.lower()\n",
    "df = df.drop(columns = [\"country\", \"hbt\"])\n",
    "df.head()"
   ]
  },
  {
   "cell_type": "markdown",
   "id": "a82378b0-0234-4ec5-8d30-5826486de2d7",
   "metadata": {},
   "source": [
    "# Add data to the database"
   ]
  },
  {
   "cell_type": "markdown",
   "id": "1d78f135-f0ab-40a3-af75-5349210c1e08",
   "metadata": {},
   "source": [
    "### Create connection to the database"
   ]
  },
  {
   "cell_type": "code",
   "execution_count": 16,
   "id": "606590cb-73b6-46a4-a5ca-713ae6e5e89a",
   "metadata": {},
   "outputs": [
    {
     "name": "stdout",
     "output_type": "stream",
     "text": [
      "Connected to PostgreSQL successfully!\n"
     ]
    }
   ],
   "source": [
    "# Create a connection to the database\n",
    "db_user = \"postgres\"\n",
    "db_password = \"Chilli55\"\n",
    "db_host = \"localhost\"\n",
    "db_port = \"5432\"\n",
    "db_name = \"A&E Attendances\"\n",
    "\n",
    "engine = create_engine(f\"postgresql://{db_user}:{db_password}@{db_host}:{db_port}/{db_name}\")\n",
    "\n",
    "with engine.connect() as conn:\n",
    "    print(\"Connected to PostgreSQL successfully!\")"
   ]
  },
  {
   "cell_type": "markdown",
   "id": "98825d8a-e0b0-4284-82a4-d9c0a26199bc",
   "metadata": {},
   "source": [
    "### Load data into the database"
   ]
  },
  {
   "cell_type": "code",
   "execution_count": 18,
   "id": "11a867d5-c8ac-4e9f-896d-9a16fb4d12c3",
   "metadata": {},
   "outputs": [
    {
     "name": "stdout",
     "output_type": "stream",
     "text": [
      "Data already present within table.\n",
      "All data processed successfully!\n"
     ]
    }
   ],
   "source": [
    "existing_ids = pd.read_sql(\"SELECT _id FROM a_and_e_attendances\", con=engine)['_id']\n",
    "new_data = df[~df['_id'].isin(existing_ids)]\n",
    "\n",
    "if not new_data.empty:\n",
    "    new_data.to_sql(\"a_and_e_attendances\", con=engine, if_exists=\"append\", index=False)\n",
    "    print(f\"{len(new_data)} row(s) have been added to the database.\")\n",
    "else:\n",
    "    print(\"Data already present within table.\")\n",
    "\n",
    "print(\"All data processed successfully!\")"
   ]
  },
  {
   "cell_type": "markdown",
   "id": "183971ae-3fbf-4401-a1fe-586cc505c2d7",
   "metadata": {},
   "source": [
    "### Load the data into Excel"
   ]
  },
  {
   "cell_type": "code",
   "execution_count": 24,
   "id": "48a3959b-b7cf-4074-bc56-a3ee64544aec",
   "metadata": {},
   "outputs": [
    {
     "ename": "PermissionError",
     "evalue": "[Errno 13] Permission denied: 'a_and_e_attendances.xlsx'",
     "output_type": "error",
     "traceback": [
      "\u001b[1;31m---------------------------------------------------------------------------\u001b[0m",
      "\u001b[1;31mPermissionError\u001b[0m                           Traceback (most recent call last)",
      "Cell \u001b[1;32mIn[24], line 1\u001b[0m\n\u001b[1;32m----> 1\u001b[0m \u001b[43mdf\u001b[49m\u001b[38;5;241;43m.\u001b[39;49m\u001b[43mto_excel\u001b[49m\u001b[43m(\u001b[49m\u001b[38;5;124;43m\"\u001b[39;49m\u001b[38;5;124;43ma_and_e_attendances.xlsx\u001b[39;49m\u001b[38;5;124;43m\"\u001b[39;49m\u001b[43m,\u001b[49m\u001b[43m \u001b[49m\u001b[43mindex\u001b[49m\u001b[43m \u001b[49m\u001b[38;5;241;43m=\u001b[39;49m\u001b[43m \u001b[49m\u001b[38;5;28;43;01mFalse\u001b[39;49;00m\u001b[43m)\u001b[49m\n\u001b[0;32m      2\u001b[0m \u001b[38;5;28mprint\u001b[39m(\u001b[38;5;124mf\u001b[39m\u001b[38;5;124m\"\u001b[39m\u001b[38;5;132;01m{\u001b[39;00m\u001b[38;5;28mlen\u001b[39m(df)\u001b[38;5;132;01m}\u001b[39;00m\u001b[38;5;124m row (s) added to Excel sheet.\u001b[39m\u001b[38;5;124m\"\u001b[39m)\n",
      "File \u001b[1;32m~\\AppData\\Local\\Programs\\Python\\Python311\\Lib\\site-packages\\pandas\\util\\_decorators.py:333\u001b[0m, in \u001b[0;36mdeprecate_nonkeyword_arguments.<locals>.decorate.<locals>.wrapper\u001b[1;34m(*args, **kwargs)\u001b[0m\n\u001b[0;32m    327\u001b[0m \u001b[38;5;28;01mif\u001b[39;00m \u001b[38;5;28mlen\u001b[39m(args) \u001b[38;5;241m>\u001b[39m num_allow_args:\n\u001b[0;32m    328\u001b[0m     warnings\u001b[38;5;241m.\u001b[39mwarn(\n\u001b[0;32m    329\u001b[0m         msg\u001b[38;5;241m.\u001b[39mformat(arguments\u001b[38;5;241m=\u001b[39m_format_argument_list(allow_args)),\n\u001b[0;32m    330\u001b[0m         \u001b[38;5;167;01mFutureWarning\u001b[39;00m,\n\u001b[0;32m    331\u001b[0m         stacklevel\u001b[38;5;241m=\u001b[39mfind_stack_level(),\n\u001b[0;32m    332\u001b[0m     )\n\u001b[1;32m--> 333\u001b[0m \u001b[38;5;28;01mreturn\u001b[39;00m \u001b[43mfunc\u001b[49m\u001b[43m(\u001b[49m\u001b[38;5;241;43m*\u001b[39;49m\u001b[43margs\u001b[49m\u001b[43m,\u001b[49m\u001b[43m \u001b[49m\u001b[38;5;241;43m*\u001b[39;49m\u001b[38;5;241;43m*\u001b[39;49m\u001b[43mkwargs\u001b[49m\u001b[43m)\u001b[49m\n",
      "File \u001b[1;32m~\\AppData\\Local\\Programs\\Python\\Python311\\Lib\\site-packages\\pandas\\core\\generic.py:2417\u001b[0m, in \u001b[0;36mNDFrame.to_excel\u001b[1;34m(self, excel_writer, sheet_name, na_rep, float_format, columns, header, index, index_label, startrow, startcol, engine, merge_cells, inf_rep, freeze_panes, storage_options, engine_kwargs)\u001b[0m\n\u001b[0;32m   2404\u001b[0m \u001b[38;5;28;01mfrom\u001b[39;00m \u001b[38;5;21;01mpandas\u001b[39;00m\u001b[38;5;21;01m.\u001b[39;00m\u001b[38;5;21;01mio\u001b[39;00m\u001b[38;5;21;01m.\u001b[39;00m\u001b[38;5;21;01mformats\u001b[39;00m\u001b[38;5;21;01m.\u001b[39;00m\u001b[38;5;21;01mexcel\u001b[39;00m \u001b[38;5;28;01mimport\u001b[39;00m ExcelFormatter\n\u001b[0;32m   2406\u001b[0m formatter \u001b[38;5;241m=\u001b[39m ExcelFormatter(\n\u001b[0;32m   2407\u001b[0m     df,\n\u001b[0;32m   2408\u001b[0m     na_rep\u001b[38;5;241m=\u001b[39mna_rep,\n\u001b[1;32m   (...)\u001b[0m\n\u001b[0;32m   2415\u001b[0m     inf_rep\u001b[38;5;241m=\u001b[39minf_rep,\n\u001b[0;32m   2416\u001b[0m )\n\u001b[1;32m-> 2417\u001b[0m \u001b[43mformatter\u001b[49m\u001b[38;5;241;43m.\u001b[39;49m\u001b[43mwrite\u001b[49m\u001b[43m(\u001b[49m\n\u001b[0;32m   2418\u001b[0m \u001b[43m    \u001b[49m\u001b[43mexcel_writer\u001b[49m\u001b[43m,\u001b[49m\n\u001b[0;32m   2419\u001b[0m \u001b[43m    \u001b[49m\u001b[43msheet_name\u001b[49m\u001b[38;5;241;43m=\u001b[39;49m\u001b[43msheet_name\u001b[49m\u001b[43m,\u001b[49m\n\u001b[0;32m   2420\u001b[0m \u001b[43m    \u001b[49m\u001b[43mstartrow\u001b[49m\u001b[38;5;241;43m=\u001b[39;49m\u001b[43mstartrow\u001b[49m\u001b[43m,\u001b[49m\n\u001b[0;32m   2421\u001b[0m \u001b[43m    \u001b[49m\u001b[43mstartcol\u001b[49m\u001b[38;5;241;43m=\u001b[39;49m\u001b[43mstartcol\u001b[49m\u001b[43m,\u001b[49m\n\u001b[0;32m   2422\u001b[0m \u001b[43m    \u001b[49m\u001b[43mfreeze_panes\u001b[49m\u001b[38;5;241;43m=\u001b[39;49m\u001b[43mfreeze_panes\u001b[49m\u001b[43m,\u001b[49m\n\u001b[0;32m   2423\u001b[0m \u001b[43m    \u001b[49m\u001b[43mengine\u001b[49m\u001b[38;5;241;43m=\u001b[39;49m\u001b[43mengine\u001b[49m\u001b[43m,\u001b[49m\n\u001b[0;32m   2424\u001b[0m \u001b[43m    \u001b[49m\u001b[43mstorage_options\u001b[49m\u001b[38;5;241;43m=\u001b[39;49m\u001b[43mstorage_options\u001b[49m\u001b[43m,\u001b[49m\n\u001b[0;32m   2425\u001b[0m \u001b[43m    \u001b[49m\u001b[43mengine_kwargs\u001b[49m\u001b[38;5;241;43m=\u001b[39;49m\u001b[43mengine_kwargs\u001b[49m\u001b[43m,\u001b[49m\n\u001b[0;32m   2426\u001b[0m \u001b[43m\u001b[49m\u001b[43m)\u001b[49m\n",
      "File \u001b[1;32m~\\AppData\\Local\\Programs\\Python\\Python311\\Lib\\site-packages\\pandas\\io\\formats\\excel.py:943\u001b[0m, in \u001b[0;36mExcelFormatter.write\u001b[1;34m(self, writer, sheet_name, startrow, startcol, freeze_panes, engine, storage_options, engine_kwargs)\u001b[0m\n\u001b[0;32m    941\u001b[0m     need_save \u001b[38;5;241m=\u001b[39m \u001b[38;5;28;01mFalse\u001b[39;00m\n\u001b[0;32m    942\u001b[0m \u001b[38;5;28;01melse\u001b[39;00m:\n\u001b[1;32m--> 943\u001b[0m     writer \u001b[38;5;241m=\u001b[39m \u001b[43mExcelWriter\u001b[49m\u001b[43m(\u001b[49m\n\u001b[0;32m    944\u001b[0m \u001b[43m        \u001b[49m\u001b[43mwriter\u001b[49m\u001b[43m,\u001b[49m\n\u001b[0;32m    945\u001b[0m \u001b[43m        \u001b[49m\u001b[43mengine\u001b[49m\u001b[38;5;241;43m=\u001b[39;49m\u001b[43mengine\u001b[49m\u001b[43m,\u001b[49m\n\u001b[0;32m    946\u001b[0m \u001b[43m        \u001b[49m\u001b[43mstorage_options\u001b[49m\u001b[38;5;241;43m=\u001b[39;49m\u001b[43mstorage_options\u001b[49m\u001b[43m,\u001b[49m\n\u001b[0;32m    947\u001b[0m \u001b[43m        \u001b[49m\u001b[43mengine_kwargs\u001b[49m\u001b[38;5;241;43m=\u001b[39;49m\u001b[43mengine_kwargs\u001b[49m\u001b[43m,\u001b[49m\n\u001b[0;32m    948\u001b[0m \u001b[43m    \u001b[49m\u001b[43m)\u001b[49m\n\u001b[0;32m    949\u001b[0m     need_save \u001b[38;5;241m=\u001b[39m \u001b[38;5;28;01mTrue\u001b[39;00m\n\u001b[0;32m    951\u001b[0m \u001b[38;5;28;01mtry\u001b[39;00m:\n",
      "File \u001b[1;32m~\\AppData\\Local\\Programs\\Python\\Python311\\Lib\\site-packages\\pandas\\io\\excel\\_openpyxl.py:61\u001b[0m, in \u001b[0;36mOpenpyxlWriter.__init__\u001b[1;34m(self, path, engine, date_format, datetime_format, mode, storage_options, if_sheet_exists, engine_kwargs, **kwargs)\u001b[0m\n\u001b[0;32m     57\u001b[0m \u001b[38;5;28;01mfrom\u001b[39;00m \u001b[38;5;21;01mopenpyxl\u001b[39;00m\u001b[38;5;21;01m.\u001b[39;00m\u001b[38;5;21;01mworkbook\u001b[39;00m \u001b[38;5;28;01mimport\u001b[39;00m Workbook\n\u001b[0;32m     59\u001b[0m engine_kwargs \u001b[38;5;241m=\u001b[39m combine_kwargs(engine_kwargs, kwargs)\n\u001b[1;32m---> 61\u001b[0m \u001b[38;5;28;43msuper\u001b[39;49m\u001b[43m(\u001b[49m\u001b[43m)\u001b[49m\u001b[38;5;241;43m.\u001b[39;49m\u001b[38;5;21;43m__init__\u001b[39;49m\u001b[43m(\u001b[49m\n\u001b[0;32m     62\u001b[0m \u001b[43m    \u001b[49m\u001b[43mpath\u001b[49m\u001b[43m,\u001b[49m\n\u001b[0;32m     63\u001b[0m \u001b[43m    \u001b[49m\u001b[43mmode\u001b[49m\u001b[38;5;241;43m=\u001b[39;49m\u001b[43mmode\u001b[49m\u001b[43m,\u001b[49m\n\u001b[0;32m     64\u001b[0m \u001b[43m    \u001b[49m\u001b[43mstorage_options\u001b[49m\u001b[38;5;241;43m=\u001b[39;49m\u001b[43mstorage_options\u001b[49m\u001b[43m,\u001b[49m\n\u001b[0;32m     65\u001b[0m \u001b[43m    \u001b[49m\u001b[43mif_sheet_exists\u001b[49m\u001b[38;5;241;43m=\u001b[39;49m\u001b[43mif_sheet_exists\u001b[49m\u001b[43m,\u001b[49m\n\u001b[0;32m     66\u001b[0m \u001b[43m    \u001b[49m\u001b[43mengine_kwargs\u001b[49m\u001b[38;5;241;43m=\u001b[39;49m\u001b[43mengine_kwargs\u001b[49m\u001b[43m,\u001b[49m\n\u001b[0;32m     67\u001b[0m \u001b[43m\u001b[49m\u001b[43m)\u001b[49m\n\u001b[0;32m     69\u001b[0m \u001b[38;5;66;03m# ExcelWriter replaced \"a\" by \"r+\" to allow us to first read the excel file from\u001b[39;00m\n\u001b[0;32m     70\u001b[0m \u001b[38;5;66;03m# the file and later write to it\u001b[39;00m\n\u001b[0;32m     71\u001b[0m \u001b[38;5;28;01mif\u001b[39;00m \u001b[38;5;124m\"\u001b[39m\u001b[38;5;124mr+\u001b[39m\u001b[38;5;124m\"\u001b[39m \u001b[38;5;129;01min\u001b[39;00m \u001b[38;5;28mself\u001b[39m\u001b[38;5;241m.\u001b[39m_mode:  \u001b[38;5;66;03m# Load from existing workbook\u001b[39;00m\n",
      "File \u001b[1;32m~\\AppData\\Local\\Programs\\Python\\Python311\\Lib\\site-packages\\pandas\\io\\excel\\_base.py:1246\u001b[0m, in \u001b[0;36mExcelWriter.__init__\u001b[1;34m(self, path, engine, date_format, datetime_format, mode, storage_options, if_sheet_exists, engine_kwargs)\u001b[0m\n\u001b[0;32m   1242\u001b[0m \u001b[38;5;28mself\u001b[39m\u001b[38;5;241m.\u001b[39m_handles \u001b[38;5;241m=\u001b[39m IOHandles(\n\u001b[0;32m   1243\u001b[0m     cast(IO[\u001b[38;5;28mbytes\u001b[39m], path), compression\u001b[38;5;241m=\u001b[39m{\u001b[38;5;124m\"\u001b[39m\u001b[38;5;124mcompression\u001b[39m\u001b[38;5;124m\"\u001b[39m: \u001b[38;5;28;01mNone\u001b[39;00m}\n\u001b[0;32m   1244\u001b[0m )\n\u001b[0;32m   1245\u001b[0m \u001b[38;5;28;01mif\u001b[39;00m \u001b[38;5;129;01mnot\u001b[39;00m \u001b[38;5;28misinstance\u001b[39m(path, ExcelWriter):\n\u001b[1;32m-> 1246\u001b[0m     \u001b[38;5;28mself\u001b[39m\u001b[38;5;241m.\u001b[39m_handles \u001b[38;5;241m=\u001b[39m \u001b[43mget_handle\u001b[49m\u001b[43m(\u001b[49m\n\u001b[0;32m   1247\u001b[0m \u001b[43m        \u001b[49m\u001b[43mpath\u001b[49m\u001b[43m,\u001b[49m\u001b[43m \u001b[49m\u001b[43mmode\u001b[49m\u001b[43m,\u001b[49m\u001b[43m \u001b[49m\u001b[43mstorage_options\u001b[49m\u001b[38;5;241;43m=\u001b[39;49m\u001b[43mstorage_options\u001b[49m\u001b[43m,\u001b[49m\u001b[43m \u001b[49m\u001b[43mis_text\u001b[49m\u001b[38;5;241;43m=\u001b[39;49m\u001b[38;5;28;43;01mFalse\u001b[39;49;00m\n\u001b[0;32m   1248\u001b[0m \u001b[43m    \u001b[49m\u001b[43m)\u001b[49m\n\u001b[0;32m   1249\u001b[0m \u001b[38;5;28mself\u001b[39m\u001b[38;5;241m.\u001b[39m_cur_sheet \u001b[38;5;241m=\u001b[39m \u001b[38;5;28;01mNone\u001b[39;00m\n\u001b[0;32m   1251\u001b[0m \u001b[38;5;28;01mif\u001b[39;00m date_format \u001b[38;5;129;01mis\u001b[39;00m \u001b[38;5;28;01mNone\u001b[39;00m:\n",
      "File \u001b[1;32m~\\AppData\\Local\\Programs\\Python\\Python311\\Lib\\site-packages\\pandas\\io\\common.py:882\u001b[0m, in \u001b[0;36mget_handle\u001b[1;34m(path_or_buf, mode, encoding, compression, memory_map, is_text, errors, storage_options)\u001b[0m\n\u001b[0;32m    873\u001b[0m         handle \u001b[38;5;241m=\u001b[39m \u001b[38;5;28mopen\u001b[39m(\n\u001b[0;32m    874\u001b[0m             handle,\n\u001b[0;32m    875\u001b[0m             ioargs\u001b[38;5;241m.\u001b[39mmode,\n\u001b[1;32m   (...)\u001b[0m\n\u001b[0;32m    878\u001b[0m             newline\u001b[38;5;241m=\u001b[39m\u001b[38;5;124m\"\u001b[39m\u001b[38;5;124m\"\u001b[39m,\n\u001b[0;32m    879\u001b[0m         )\n\u001b[0;32m    880\u001b[0m     \u001b[38;5;28;01melse\u001b[39;00m:\n\u001b[0;32m    881\u001b[0m         \u001b[38;5;66;03m# Binary mode\u001b[39;00m\n\u001b[1;32m--> 882\u001b[0m         handle \u001b[38;5;241m=\u001b[39m \u001b[38;5;28;43mopen\u001b[39;49m\u001b[43m(\u001b[49m\u001b[43mhandle\u001b[49m\u001b[43m,\u001b[49m\u001b[43m \u001b[49m\u001b[43mioargs\u001b[49m\u001b[38;5;241;43m.\u001b[39;49m\u001b[43mmode\u001b[49m\u001b[43m)\u001b[49m\n\u001b[0;32m    883\u001b[0m     handles\u001b[38;5;241m.\u001b[39mappend(handle)\n\u001b[0;32m    885\u001b[0m \u001b[38;5;66;03m# Convert BytesIO or file objects passed with an encoding\u001b[39;00m\n",
      "\u001b[1;31mPermissionError\u001b[0m: [Errno 13] Permission denied: 'a_and_e_attendances.xlsx'"
     ]
    }
   ],
   "source": [
    "df.to_excel(\"a_and_e_attendances.xlsx\", index = False)\n",
    "print(f\"{len(df)} row (s) added to Excel sheet.\")"
   ]
  },
  {
   "cell_type": "markdown",
   "id": "44bd8299-904d-4fc6-9513-2d963c3c458f",
   "metadata": {},
   "source": [
    "Next Steps\n",
    "  \n",
    "- Also save the data in Excel.\n",
    "- Automate API calls (e.g., run it on a schedule and store data in a database).\n",
    "- Create a dashboard - potentially pull all information in and add lookup tables to SQL for health board and hospital or add in data on demographics and or waits."
   ]
  }
 ],
 "metadata": {
  "kernelspec": {
   "display_name": "Python 3 (ipykernel)",
   "language": "python",
   "name": "python3"
  },
  "language_info": {
   "codemirror_mode": {
    "name": "ipython",
    "version": 3
   },
   "file_extension": ".py",
   "mimetype": "text/x-python",
   "name": "python",
   "nbconvert_exporter": "python",
   "pygments_lexer": "ipython3",
   "version": "3.11.0"
  }
 },
 "nbformat": 4,
 "nbformat_minor": 5
}
